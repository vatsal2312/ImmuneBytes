{
 "cells": [
  {
   "cell_type": "markdown",
   "metadata": {},
   "source": [
    "# Participant Quickstart\n",
    "In the following cells you will find usage examples needed for participating in the Tournament."
   ]
  },
  {
   "cell_type": "markdown",
   "metadata": {},
   "source": [
    "## Setting up"
   ]
  },
  {
   "cell_type": "code",
   "execution_count": null,
   "metadata": {},
   "outputs": [],
   "source": [
    "from rci_tournament_utilities.participant import Participant\n",
    "\n",
    "# Enter Infura Project ID here.\n",
    "INFURA_ID = ''\n",
    "\n",
    "# Contract Addresses. \n",
    "TOKEN_CONTRACT_ADDRESS = ''\n",
    "TOURNAMENT_CONTRACT_ADDRESS = ''\n",
    "\n",
    "# Your account address.\n",
    "MY_PUBLIC_ADDRESS = ''\n",
    "\n",
    "# Set to `True` if only querying the blockchain for information without sending any transactions.\n",
    "# Methods that begin with `get` simply read from the blockchain and no transactions are sent.\n",
    "READ_ONLY = False\n",
    "\n",
    "my_account = Participant(read_only=READ_ONLY, infura_id=INFURA_ID, token_contract_address=TOKEN_CONTRACT_ADDRESS, tournament_contract_address=TOURNAMENT_CONTRACT_ADDRESS, account_address=MY_PUBLIC_ADDRESS)\n"
   ]
  },
  {
   "cell_type": "markdown",
   "metadata": {},
   "source": [
    "## Read Functions\n",
    "The following set of functions help to read and return information from the blockchain."
   ]
  },
  {
   "cell_type": "code",
   "execution_count": null,
   "metadata": {},
   "outputs": [],
   "source": [
    "# Show your ETH balance\n",
    "print(my_account.get_my_ETH_balance())\n",
    "\n",
    "# Show your ___ token balance in your personal wallet\n",
    "print(my_account.get_my_personal_token_balance())\n",
    "\n",
    "# Show your ___ token balance on the Tournament contract\n",
    "print(my_account.get_my_tournament_token_balance())\n",
    "\n",
    "# Show Tournament Info\n",
    "my_account.get_tournament_info()\n",
    "\n",
    "# Get the latest phase and contest index.\n",
    "latest_contest = latest_phase = my_account.get_latest_phase()\n",
    "\n",
    "# Show Contest Info\n",
    "contest_index = latest_phase\n",
    "my_account.get_contest_info(contest_index)\n",
    "\n",
    "# Show Phase Info\n",
    "phase_index = latest_phase\n",
    "my_account.get_phase_info(phase_index)"
   ]
  },
  {
   "cell_type": "markdown",
   "metadata": {},
   "source": [
    "## Subscribing to the Tournament"
   ]
  },
  {
   "cell_type": "code",
   "execution_count": null,
   "metadata": {},
   "outputs": [],
   "source": [
    "# Turn on subscription\n",
    "my_account.subscribe()\n",
    "\n",
    "# Turn off subscription\n",
    "my_account.unsubscribe()\n",
    "\n",
    "# Show subscription status\n",
    "print(my_account.get_my_subscription_status())"
   ]
  },
  {
   "cell_type": "markdown",
   "metadata": {},
   "source": [
    "## Sending tokens to and from your Tournament Wallet"
   ]
  },
  {
   "cell_type": "code",
   "execution_count": null,
   "metadata": {},
   "outputs": [],
   "source": [
    "# Deposit tokens to Tournament wallet\n",
    "amount_to_deposit = 560\n",
    "my_account.deposit_tokens_to_tournament(amount_to_deposit)\n",
    "\n",
    "# Withdraw tokens from Tournament wallet\n",
    "my_current_balance = my_account.get_my_tournament_token_balance()\n",
    "my_account.withdraw_my_tournament_token_balance(my_current_balance)"
   ]
  },
  {
   "cell_type": "markdown",
   "metadata": {},
   "source": [
    "## Downloading the latest dataset"
   ]
  },
  {
   "cell_type": "code",
   "execution_count": null,
   "metadata": {},
   "outputs": [],
   "source": [
    "# Retrieve Dataset\n",
    "latest_phase = my_account.get_latest_phase()\n",
    "my_account.retrieve_dataset_folder(latest_phase)"
   ]
  },
  {
   "cell_type": "markdown",
   "metadata": {},
   "source": [
    "## Encrypting, uploading and recording your prediction submission on the blockchain"
   ]
  },
  {
   "cell_type": "code",
   "execution_count": null,
   "metadata": {},
   "outputs": [],
   "source": [
    "# Make predictions.\n",
    "\n",
    "submission_file_path = 'predictions_folder/predictions.csv'\n",
    "rci_public_key_path = 'retrieved_dataset/organizer_public_key.pem'\n",
    "zip_folder_name = 'for_submission'\n",
    "\n",
    "submission_cid = my_account.send_submission(submission_file_path, rci_public_key_path, zip_folder_name)"
   ]
  },
  {
   "cell_type": "markdown",
   "metadata": {},
   "source": [
    "## Get contest registration status"
   ]
  },
  {
   "cell_type": "code",
   "execution_count": null,
   "metadata": {},
   "outputs": [],
   "source": [
    "contest_index = 21\n",
    "my_account.get_my_contest_registration_status(contest_index)"
   ]
  },
  {
   "cell_type": "markdown",
   "metadata": {},
   "source": [
    "## Updating your prediction submission\n",
    "If the phase is still open, you may generate an updated set of predictions and re-submit your predictions.\n",
    "Only your most recent submission will be taken into consideration."
   ]
  },
  {
   "cell_type": "code",
   "execution_count": null,
   "metadata": {},
   "outputs": [],
   "source": [
    "submission_file_path = 'predictions_folder/predictions.csv'\n",
    "rci_public_key_path = 'retrieved_dataset/organizer_public_key.pem'\n",
    "zip_folder_name = 'for_submission'\n",
    "\n",
    "# Update submissions before phase closes. Only the latest submission will be taken into consideration.\n",
    "latest_phase = my_account.get_latest_phase()\n",
    "old_submission_cid = my_account.get_my_submission_cid(latest_phase)\n",
    "\n",
    "new_submission_cid = my_account.update_submission(submission_file_path, rci_public_key_path, zip_folder_name, old_submission_cid)"
   ]
  },
  {
   "cell_type": "markdown",
   "metadata": {},
   "source": [
    "## Downloading phase results"
   ]
  },
  {
   "cell_type": "code",
   "execution_count": null,
   "metadata": {},
   "outputs": [],
   "source": [
    "# Select the phase you want to download results for.\n",
    "phase_index = 21\n",
    "\n",
    "# my_account.get_phase_dataset_cid(phase_index)\n",
    "\n",
    "my_account.retrieve_phase_results(phase_index)"
   ]
  },
  {
   "cell_type": "markdown",
   "metadata": {},
   "source": [
    "## Downloading contest results"
   ]
  },
  {
   "cell_type": "code",
   "execution_count": null,
   "metadata": {},
   "outputs": [],
   "source": [
    "# Select the contest you want to download results for.\n",
    "contest_index = 18\n",
    "\n",
    "my_account.retrieve_contest_results(contest_index)"
   ]
  },
  {
   "cell_type": "markdown",
   "metadata": {},
   "source": [
    "## Setting gas price for transactions (optional)\n",
    "When sending transactions, you may wish to specify the gas price you are willing to pay.\n",
    "You can set this via the `gas_price_in_wei` parameter, which is the last (optional) input parameter for any method that sends a transaction.\n",
    "\n",
    "You can get the current average network gas price via the `get_current_gas_price_in_wei()` method.\n",
    "Alternatively, you may look at websites such as https://ethgasstation.info.\n",
    "\n",
    "Please note the various ETH denominations:\n",
    "1 Ether = 1000000000 Gwei (9 zeroes) = 1000000000000000000 Wei (18 zeroes)"
   ]
  },
  {
   "cell_type": "code",
   "execution_count": null,
   "metadata": {},
   "outputs": [],
   "source": [
    "# Get current average gas price\n",
    "current_gas_price = my_account.get_current_gas_price_in_wei()\n",
    "\n",
    "# Set the `gas_price_in_wei` field to your desired gas price if you'd like. Otherwise, leave it blank and it will default to the current average gas price.\n",
    "my_gas_price = current_gas_price * 1.1\n",
    "\n",
    "# # Example Usage\n",
    "# my_account.subscribe(gas_price_in_wei = my_gas_price)\n",
    "# my_account.send_submission(submission_file_path, rci_public_key_path, zip_folder_name, gas_price_in_wei = my_gas_price)"
   ]
  }
 ],
 "metadata": {
  "kernelspec": {
   "display_name": "tnmt_test_2",
   "language": "python",
   "name": "tnmt_test_2"
  },
  "language_info": {
   "codemirror_mode": {
    "name": "ipython",
    "version": 3
   },
   "file_extension": ".py",
   "mimetype": "text/x-python",
   "name": "python",
   "nbconvert_exporter": "python",
   "pygments_lexer": "ipython3",
   "version": "3.9.4"
  },
  "metadata": {
   "interpreter": {
    "hash": "dd8c399619408c8ae0410b02648e0255dd11fbd444ae595bf62eb6013d5de153"
   }
  }
 },
 "nbformat": 4,
 "nbformat_minor": 2
}
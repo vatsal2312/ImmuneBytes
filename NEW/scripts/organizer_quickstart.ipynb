{
 "cells": [
  {
   "cell_type": "markdown",
   "metadata": {},
   "source": [
    "# Organizer Quickstart\n",
    "In the following cells you will find usage examples needed for managing the Tournament contract."
   ]
  },
  {
   "cell_type": "markdown",
   "metadata": {},
   "source": [
    "# Set Up (Always run this first)"
   ]
  },
  {
   "cell_type": "code",
   "execution_count": null,
   "metadata": {},
   "outputs": [],
   "source": [
    "# Set to `True` if only querying the blockchain for information.\n",
    "READ_ONLY = False\n",
    "\n",
    "from src.rci_competition_utilities.organizer import *\n",
    "\n",
    "# Enter Infura Project ID here.\n",
    "INFURA_ID = '906ca3a563ce48fdb188ec4ebec1cf4f'\n",
    "\n",
    "# Your account address.\n",
    "PUBLIC_ADDRESS = ''\n",
    "''\n",
    "\n",
    "# Instantiate Organizer session. You will be prompted for your private key if `READ_ONLY` is set to False.\n",
    "my_account = Organizer(read_only=READ_ONLY, network_url = network.polygon_mainnet, infura_id = INFURA_ID, account_address=PUBLIC_ADDRESS)\n",
    "my_account.set_gas_price_in_gwei(2)\n",
    "\n",
    "#POLYGON contracts\n",
    "# Instantiate existing contracts\n",
    "# REGISTRY\n",
    "REGISTRY_CONTRACT_ADDRESS = '0x2a91f354F25f9F4C8AFe078c94A997bCd50DE7Ba'\n",
    "my_account.registry_init(REGISTRY_CONTRACT_ADDRESS)\n",
    "\n",
    "# VAULT\n",
    "VAULT_CONTRACT_ADDRESS = '0xba163Dd4Cc83B3244099C5A300481F7f8Bc528F8'\n",
    "my_account.vault_init(VAULT_CONTRACT_ADDRESS)\n",
    "\n",
    "# TOKEN\n",
    "TOKEN_CONTRACT_ADDRESS = '0x38036bbF1e95957aB04CFd47708c5ca293916FFe'\n",
    "my_account.token_init(TOKEN_CONTRACT_ADDRESS)\n",
    "\n",
    "# COMPETITON\n",
    "COMPETITON_NAME = 'RCI_COMP_10'\n",
    "COMPETITON_CONTRACT_ADDRESS = '0x4892A0cf39ff2F496C068F6130A5B410867e1Caf'\n",
    "my_account.competition_init(COMPETITON_CONTRACT_ADDRESS)\n"
   ]
  },
  {
   "cell_type": "code",
   "execution_count": null,
   "metadata": {},
   "outputs": [],
   "source": [
    "# Query and set gas price according to market prices\n",
    "def gas_price_setter():\n",
    "    market_gas_price_in_gwei = my_account.conversion_to_float(my_account.get_current_gas_price_in_wei()) * 1e9\n",
    "    # print('Market gas price: {:.2f} Gwei'.format(market_gas_price_in_gwei))\n",
    "\n",
    "    # Set slightly higher for faster transactions\n",
    "    market_gas_price_in_gwei *= 1.5\n",
    "    # print('Setting my gas price to: {:.2f} Gwei'.format(market_gas_price_in_gwei))\n",
    "\n",
    "    my_account.set_gas_price_in_gwei(market_gas_price_in_gwei)\n",
    "\n",
    "gas_price_setter();"
   ]
  },
  {
   "cell_type": "code",
   "execution_count": null,
   "metadata": {},
   "outputs": [],
   "source": [
    "my_account.token.grantPermission(my_account.competition.address()); # only needs to be run once."
   ]
  },
  {
   "cell_type": "markdown",
   "metadata": {},
   "source": [
    "# CHALLENGE CYCLE BEGIN\n",
    "## (Repeat for each challenge)"
   ]
  },
  {
   "cell_type": "markdown",
   "metadata": {},
   "source": [
    "# PHASE 0"
   ]
  },
  {
   "cell_type": "markdown",
   "metadata": {},
   "source": [
    "## Send tokens to sponsor Tournament contests (manually bypass Vault)"
   ]
  },
  {
   "cell_type": "code",
   "execution_count": null,
   "metadata": {},
   "outputs": [],
   "source": [
    "sponsor_amount = 30\n",
    "gas_price_setter()\n",
    "my_account.sponsor(sponsor_amount);"
   ]
  },
  {
   "cell_type": "markdown",
   "metadata": {},
   "source": [
    "# Dataset Creation"
   ]
  },
  {
   "cell_type": "markdown",
   "metadata": {},
   "source": [
    "## Generate private-public key pair"
   ]
  },
  {
   "cell_type": "code",
   "execution_count": null,
   "metadata": {},
   "outputs": [],
   "source": [
    "# Give a name for this key pair\n",
    "challenge_number = my_account.get_latest_challenge_number()\n",
    "\n",
    "asymmetric_key_gen(\"organizer_{}\".format(challenge_number+1))\n",
    "public_key_file_path = 'organizer_{}_public_key.pem'.format(challenge_number+1)"
   ]
  },
  {
   "cell_type": "markdown",
   "metadata": {},
   "source": [
    "# PHASE 1"
   ]
  },
  {
   "cell_type": "markdown",
   "metadata": {},
   "source": [
    "## Upload dataset and key and open for staking"
   ]
  },
  {
   "cell_type": "code",
   "execution_count": null,
   "metadata": {},
   "outputs": [],
   "source": [
    "# Define dataset and public key file paths\n",
    "# Create mock csv files and assign to 'train_file' and 'test_file'.\n",
    "challenge_number = my_account.get_latest_challenge_number()\n",
    "public_key_file_path = 'organizer_{}_public_key.pem'.format(challenge_number+1)\n",
    "\n",
    "train_file = my_account.create_dataset()\n",
    "time.sleep(2)\n",
    "test_file = my_account.create_dataset()\n",
    "\n",
    "next_challenge = my_account.get_latest_challenge_number() + 1\n",
    "\n",
    "dataset_cid, key_cid = my_account.upload_datasets(train_file, test_file, public_key_file_path, 'challenge{}_dataset_{}'.format(next_challenge, datetime.now().strftime('%Y-%b-%d_%H:%M:%S')))\n",
    "\n",
    "gas_price_setter()\n",
    "my_account.competition.openChallenge(cid_to_hash(dataset_cid), cid_to_hash(key_cid))\n",
    "\n",
    "# Set deadlines\n",
    "from datetime import datetime, timedelta\n",
    "\n",
    "current_milliseconds = int(datetime.now().timestamp() * 1000)\n",
    "one_hour_in_milliseconds = timedelta(days=1, hours=0, minutes=0).seconds * 1000\n",
    "\n",
    "deadline0 = current_milliseconds + one_hour_in_milliseconds\n",
    "deadline1 = current_milliseconds + (2 * one_hour_in_milliseconds)\n",
    "gas_price_setter()\n",
    "my_account.competition.updateDeadlines(challenge_number, 0, deadline0)\n",
    "my_account.competition.updateDeadlines(challenge_number, 1, deadline1);"
   ]
  },
  {
   "cell_type": "code",
   "execution_count": null,
   "metadata": {},
   "outputs": [],
   "source": [
    "challenge_number = my_account.get_latest_challenge_number()\n",
    "my_account.competition.getSubmitters(challenge_number)"
   ]
  },
  {
   "cell_type": "markdown",
   "metadata": {},
   "source": [
    "# PHASE 2"
   ]
  },
  {
   "cell_type": "code",
   "execution_count": null,
   "metadata": {},
   "outputs": [],
   "source": [
    "challenge_number = my_account.competition.getLatestChallengeNumber()\n",
    "\n",
    "# Close submissions\n",
    "gas_price_setter()\n",
    "my_account.close_submission()\n",
    "\n",
    "# Pay staking rewards\n",
    "submitters = my_account.competition.getSubmitters(challenge_number)\n",
    "staking_rewards_list = []\n",
    "for s in submitters:\n",
    "    staking_rewards_list.append(my_account.competition.computeStakingReward(s))\n",
    "\n",
    "gas_price_setter()\n",
    "my_account.competition.payStakingRewards(submitters, staking_rewards_list);\n",
    "\n"
   ]
  },
  {
   "cell_type": "markdown",
   "metadata": {},
   "source": [
    "# PHASE 3"
   ]
  },
  {
   "cell_type": "code",
   "execution_count": null,
   "metadata": {},
   "outputs": [],
   "source": [
    "gas_price_setter()\n",
    "my_account.competition.advanceToPhase(3)\n",
    "\n",
    "# Retrieve and decrypt submissions\n",
    "# Select challenge number.\n",
    "challenge_number = my_account.get_latest_challenge_number()\n",
    "\n",
    "# Tell the function where to find the private key.\n",
    "private_key_path = 'organizer_{}_private_key.pem'.format(challenge_number)\n",
    "\n",
    "my_account.retrieve_submissions(challenge_number, private_key_path)\n",
    "\n",
    "# A list of successful participants will be saved in: \"successful_participants_phaseX.csv\"\n",
    "# Successful submissions will be saved in the folder: \"decrypted_submissions_for_phaseX\"\n",
    "# A list of submissions with problems will be saved in: \"problematic_submissions_for_phaseX.csv\"\n",
    "\n",
    "# Submit results\n",
    "# Obtain a list of participants for this phase.\n",
    "# participants = pd.read_csv(\"successful_participants_challenge{}.csv\".format(challenge_number))['participant'].to_list()\n",
    "participants = my_account.competition.getSubmitters(challenge_number)\n",
    "\n",
    "# Create mock results to upload.\n",
    "# This creates a results history for each participant, \n",
    "# uploads each individual results history, \n",
    "# then creates an overall csv file mapping each address to the IPFS cid of its results history.\n",
    "results_cid = my_account.create_and_upload_results(challenge_number, participants)\n",
    "\n",
    "# Record results cid on smart contract.\n",
    "my_account.submit_results(results_cid)\n",
    "\n",
    "# Create mock rewards csv.\n",
    "# participants = pd.read_csv(\"successful_participants_challenge{}.csv\".format(challenge_number))['participant'].to_list()\n",
    "rewards_file_path = my_account.create_rewards_file(participants)\n",
    "\n",
    "# Submit performance rewards payment to blockchain.\n",
    "gas_price_setter()\n",
    "my_account.pay_rewards(rewards_file_path)\n",
    "\n",
    "# # Update Scores\n",
    "\n",
    "submitters = my_account.competition.getSubmitters(challenge_number)\n",
    "challenge_scores = []\n",
    "tournament_scores = []\n",
    "\n",
    "\n",
    "for s in submitters:\n",
    "    challenge_scores.append(int(100 * random.random() * int(1e18)))\n",
    "    tournament_scores.append(int(100 * random.random() * int(1e18)))\n",
    "\n",
    "\n",
    "gas_price_setter()\n",
    "my_account.competition.updateChallengeAndTournamentScores(submitters, challenge_scores, tournament_scores);\n",
    "\n"
   ]
  },
  {
   "cell_type": "code",
   "execution_count": null,
   "metadata": {},
   "outputs": [],
   "source": [
    "\n",
    "for i in range(len(submitters)):\n",
    "    s = submitters[i]\n",
    "    cs = challenge_scores[i]\n",
    "    ts = tournament_scores[i]\n",
    "\n",
    "    cs_blockchain = my_account.competition.getChallengeScores(challenge_number, s)\n",
    "    ts_blockchain = my_account.competition.getTournamentScores(challenge_number, s)\n",
    "\n",
    "    print(s, cs, cs_blockchain, cs==cs_blockchain)\n",
    "    print(s, ts, ts_blockchain, ts==ts_blockchain)\n",
    "    \n",
    "\n"
   ]
  },
  {
   "cell_type": "markdown",
   "metadata": {},
   "source": [
    "# PHASE 4 (Challenge Completed)"
   ]
  },
  {
   "cell_type": "code",
   "execution_count": null,
   "metadata": {},
   "outputs": [],
   "source": [
    "gas_price_setter()\n",
    "my_account.competition.advanceToPhase(4);"
   ]
  },
  {
   "cell_type": "markdown",
   "metadata": {},
   "source": [
    "# END OF CHALLENGE CYCLE.\n",
    "## Please return to CHALLENGE CYCLE BEGIN."
   ]
  },
  {
   "cell_type": "markdown",
   "metadata": {},
   "source": [
    "## New Structure For Holding Additional Values\n",
    "\n",
    "A new structure for holding additional values for each participant per challenge has been added.\n",
    "It is a mapping in the form (Item Number => Value).\n",
    "The dictionary key is an Item Number instead of a variable or string so that we can more easily add Items later on.\n",
    "\n",
    "\n",
    "In this implementation, I have allocated the Items as follows:\n",
    "- Item Number 1 : Challenge Score\n",
    "- Item Number 2 : Overall Competition Score\n",
    "- Item Number 3 : Cumulative Rewards\n",
    "- Item Number 4 : Rank\n",
    "\n",
    "\n",
    "Examples:\n",
    "\n",
    "If I want to get the Rank of participant 0xabcdef in challenge 5, I would call\n",
    "`getInformation(5, 0xabcdef, 4)`\n",
    "\n",
    "The total rewards received by a participant for each challenge is Participation + Performance rewards.\n",
    "\n",
    "\n",
    "Floating-point values values need to go through the 18-decimals conversion.\n",
    "\n",
    "\n",
    "These values can be recorded in the smart contract as follows.\n",
    "\n",
    "Examples: \n",
    "\n",
    "I want to to store each participant's scores for challenge 22.\n",
    "`updateInformationBatch(22, participants_list, 1, scores_list)`\n",
    "\n",
    "\n",
    "I want to to store each participant's rank for challenge 22.\n",
    "`updateInformationBatch(22, participants_list, 4, rank_list)`\n",
    "\n"
   ]
  },
  {
   "cell_type": "markdown",
   "metadata": {},
   "source": [
    "## WRITE Additional Values"
   ]
  },
  {
   "cell_type": "code",
   "execution_count": null,
   "metadata": {},
   "outputs": [],
   "source": [
    "# Generate mock information to store in the smart contract.\n",
    "\n",
    "challenge_number = my_account.get_latest_challenge_number()\n",
    "\n",
    "# participants = pd.read_csv(\"successful_participants_challenge{}.csv\".format(challenge_number))['participant'].to_list()\n",
    "participants = ['0x89390a8704C641a02119b9dc9CeE7243442774AB', '0xE1a3D0b0B38517c2C11f4B34Eb4a5cfa0cdd5E17']\n",
    "\n",
    "rank_file = my_account.create_rank_file(participants)\n",
    "my_account.upload_info(challenge_number, 3, rank_file, label='ranks')\n",
    "\n",
    "reputation_file = my_account.create_data_file(participants, label='reputations')\n",
    "my_account.upload_info(challenge_number, 4, reputation_file, label='reputations', from_wei = True)\n",
    "\n",
    "scores_file = my_account.create_data_file(participants, label='scores')\n",
    "my_account.upload_info(challenge_number, 5, scores_file, label='scores', from_wei = True)\n",
    "\n"
   ]
  },
  {
   "cell_type": "markdown",
   "metadata": {},
   "source": [
    "## READ Additional Values"
   ]
  },
  {
   "cell_type": "code",
   "execution_count": null,
   "metadata": {},
   "outputs": [],
   "source": [
    "challenge_number = my_account.get_latest_challenge_number()\n",
    "print('Challenge number:', challenge_number)\n",
    "\n",
    "# participants = pd.read_csv(\"successful_participants_challenge{}.csv\".format(challenge_number))['participant'].to_list()\n",
    "participants = ['0x89390a8704C641a02119b9dc9CeE7243442774AB', '0xE1a3D0b0B38517c2C11f4B34Eb4a5cfa0cdd5E17']\n",
    "participant = participants[1]\n",
    "\n",
    "print(\"Participant's current stake balance:\", my_account.get_stake(participant))\n",
    "\n",
    "staked_for_challenge = my_account.conversion_to_float(my_account.competition.getInformation(challenge_number, participant, 0))\n",
    "print('Amount staked for this challenge:', staked_for_challenge)\n",
    "\n",
    "participation_reward = my_account.conversion_to_float(my_account.competition.getInformation(challenge_number, participant, 1))\n",
    "print('Participation Reward:', participation_reward)\n",
    "\n",
    "performance_reward = my_account.conversion_to_float(my_account.competition.getInformation(challenge_number, participant, 2))\n",
    "print('Performance Reward:', performance_reward)\n",
    "                            \n",
    "rank = my_account.competition.getInformation(challenge_number, participant, 3)\n",
    "print('Rank:', rank)\n",
    "\n",
    "reputation_score = my_account.conversion_to_float(my_account.competition.getInformation(challenge_number, participant, 4))\n",
    "print('Reputation:', reputation_score)\n",
    "\n",
    "score = my_account.conversion_to_float(my_account.competition.getInformation(challenge_number, participant, 5))\n",
    "print('Score:', score)"
   ]
  },
  {
   "cell_type": "markdown",
   "metadata": {},
   "source": [
    "## Setting gas price for transactions (optional)\n",
    "When sending transactions, you may wish to specify the gas price you are willing to pay.\n",
    "You can set this via the `my_account.set_gas_price_in_gwei` function.\n",
    "For Polygon, 1 gwei (my_account.set_gas_price_in_gwei(1)) is usually enough. For Ropsten, 20 gwei (my_account.set_gas_price_in_gwei(20)) should be good enough when the network is not congested (transactions are not lagging).\n",
    "\n",
    "You may look at websites such as https://ethgasstation.info for current gas price information.\n",
    "\n",
    "Please note the various ETH denominations:\n",
    "1 Ether = 1000000000 Gwei (9 zeroes) = 1000000000000000000 Wei (18 zeroes)"
   ]
  },
  {
   "cell_type": "code",
   "execution_count": null,
   "metadata": {},
   "outputs": [],
   "source": [
    "# Set gas price to be used for all transactions.\n",
    "my_account.set_gas_price_in_gwei(1)"
   ]
  },
  {
   "cell_type": "markdown",
   "metadata": {},
   "source": [
    "## Authorize/Deauthorize another admin"
   ]
  },
  {
   "cell_type": "code",
   "execution_count": null,
   "metadata": {},
   "outputs": [],
   "source": [
    "# Must be called  by role admin.\n",
    "new_admin = '0xd36FE77D5E25022137A66Bea00fDBD922632FD7B'\n",
    "main_admin_role_id = bytes(0)\n",
    "gas_price_setter()\n",
    "my_account.competition.grantRole(main_admin_role_id, new_admin);\n",
    "\n",
    "# my_account.tournament.revokeRole(main_admin_role_id, new_admin)"
   ]
  },
  {
   "cell_type": "markdown",
   "metadata": {},
   "source": [
    "### Deployment Code"
   ]
  },
  {
   "cell_type": "code",
   "execution_count": null,
   "metadata": {},
   "outputs": [],
   "source": [
    "\n",
    "gas_price_setter()\n",
    "# my_account.competition_deploy(10, 10, TOKEN_CONTRACT_ADDRESS, VAULT_CONTRACT_ADDRESS);\n",
    "\n",
    "# print(my_account.registry.getCompetitionAddress('RCI_COMP_1'))\n",
    "# print(my_account.registry.getTokenAddress())\n",
    "# print(my_account.registry.getCompetitionVault(COMPETITON_CONTRACT_ADDRESS))\n",
    "# print(my_account.registry.getCompetitionRulesLocation(COMPETITON_CONTRACT_ADDRESS).hex())\n",
    "\n",
    "# print(my_account.registry.getCompetitionList())\n",
    "my_account.registry.registerNewCompetition(COMPETITON_NAME, COMPETITON_CONTRACT_ADDRESS, VAULT_CONTRACT_ADDRESS, bytes(0));"
   ]
  },
  {
   "cell_type": "markdown",
   "metadata": {},
   "source": [
    "### Test Score Updating"
   ]
  },
  {
   "cell_type": "code",
   "execution_count": null,
   "metadata": {},
   "outputs": [],
   "source": [
    "\n",
    "# for i in range(len(submitters)):\n",
    "#     s = submitters[i]\n",
    "#     cs = challenge_scores[i]\n",
    "#     ts = tournament_scores[i]\n",
    "\n",
    "#     cs_blockchain = my_account.competition.getChallengeScores(challenge_number, s)\n",
    "#     ts_blockchain = my_account.competition.getTournamentScores(challenge_number, s)\n",
    "\n",
    "#     print(s, cs, cs_blockchain, cs==cs_blockchain)\n",
    "#     print(s, ts, ts_blockchain, ts==ts_blockchain)\n",
    "    "
   ]
  },
  {
   "cell_type": "markdown",
   "metadata": {},
   "source": [
    "### Ethereum Ropsten Contract Addresses"
   ]
  },
  {
   "cell_type": "code",
   "execution_count": null,
   "metadata": {},
   "outputs": [],
   "source": [
    "# #ETHEREUM contracts\n",
    "# # Instantiate existing contracts\n",
    "# # REGISTRY\n",
    "# REGISTRY_CONTRACT_ADDRESS = '0x54ffe47B396d04FD567bC87788D085CF29Ac15E2'\n",
    "# my_account.registry_init(REGISTRY_CONTRACT_ADDRESS)\n",
    "\n",
    "# # VAULT\n",
    "# VAULT_CONTRACT_ADDRESS = '0x6cf0Fd560fa99EaB59B8AB0e5186d792Bb1A7F6A'\n",
    "# my_account.vault_init(VAULT_CONTRACT_ADDRESS)\n",
    "\n",
    "# # TOKEN\n",
    "# TOKEN_CONTRACT_ADDRESS = '0x6E4bb25176b5774969aD99181874d8F558676B6e'\n",
    "# my_account.token_init(TOKEN_CONTRACT_ADDRESS)\n",
    "\n",
    "# # COMPETITON\n",
    "# TOURNAMENT_NAME = 'DAPP_TNMT_0'\n",
    "# TOURNAMENT_CONTRACT_ADDRESS = '0xB2a9e06bDE7008B1dCDBEb7DF64bd570AaBd38EB'\n",
    "# my_account.tournament_init(TOURNAMENT_CONTRACT_ADDRESS)\n",
    "\n",
    "## POLYGON-MUMBAI Contracts\n",
    "# # Instantiate existing contracts\n",
    "# REGISTRY\n",
    "# REGISTRY_CONTRACT_ADDRESS = '0x2a91f354F25f9F4C8AFe078c94A997bCd50DE7Ba'\n",
    "# my_account.registry_init(REGISTRY_CONTRACT_ADDRESS)\n",
    "\n",
    "# # VAULT\n",
    "# VAULT_CONTRACT_ADDRESS = '0xba163Dd4Cc83B3244099C5A300481F7f8Bc528F8'\n",
    "# my_account.vault_init(VAULT_CONTRACT_ADDRESS)\n",
    "\n",
    "# # # TOKEN\n",
    "# TOKEN_CONTRACT_ADDRESS = '0x81deF26864C97861038fC8F00a6977Bf715Db54D'\n",
    "# my_account.token_init(TOKEN_CONTRACT_ADDRESS)\n",
    "\n",
    "# # COMPETITON\n",
    "# COMPETITION_NAME = 'DAPP_TNMT_7'\n",
    "# COMPETITION_CONTRACT_ADDRESS = '0x28D6a3C14561c55CF7F15F92757bC7a50aCedc89'\n",
    "# my_account.competition_init(COMPETITION_CONTRACT_ADDRESS)\n",
    "\n",
    "# my_account.competition_deploy(10, 100, TOKEN_CONTRACT_ADDRESS, VAULT_CONTRACT_ADDRESS)"
   ]
  }
 ],
 "metadata": {
  "kernelspec": {
   "display_name": "tnmt_test_2",
   "language": "python",
   "name": "tnmt_test_2"
  },
  "language_info": {
   "name": "python",
   "version": ""
  },
  "orig_nbformat": 3
 },
 "nbformat": 4,
 "nbformat_minor": 5
}